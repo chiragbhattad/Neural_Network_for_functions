{
 "cells": [
  {
   "cell_type": "code",
   "execution_count": 1,
   "metadata": {},
   "outputs": [
    {
     "name": "stderr",
     "output_type": "stream",
     "text": [
      "/anaconda/lib/python3.6/site-packages/h5py/__init__.py:34: FutureWarning: Conversion of the second argument of issubdtype from `float` to `np.floating` is deprecated. In future, it will be treated as `np.float64 == np.dtype(float).type`.\n",
      "  from ._conv import register_converters as _register_converters\n"
     ]
    }
   ],
   "source": [
    "#Using Neural Networks to predict the values generated from a cubic expression\n",
    "import pandas as pd\n",
    "import numpy as np\n",
    "import tensorflow as tf\n",
    "import matplotlib.pyplot as plt\n",
    "from sklearn.model_selection import train_test_split\n",
    "from sklearn.preprocessing import MinMaxScaler"
   ]
  },
  {
   "cell_type": "code",
   "execution_count": 2,
   "metadata": {
    "collapsed": true
   },
   "outputs": [],
   "source": [
    "cubic_data = pd.read_csv('/Users/chiragbhattad/Downloads/DDP/Cubic equation/dataset_cubic.csv')\n",
    "features = ['x', 'b']\n",
    "target = ['y']"
   ]
  },
  {
   "cell_type": "code",
   "execution_count": 3,
   "metadata": {},
   "outputs": [
    {
     "data": {
      "image/png": "[encoded data removed]",
      "text/plain": [
       "<matplotlib.figure.Figure at 0x11eed62b0>"
      ]
     },
     "metadata": {},
     "output_type": "display_data"
    }
   ],
   "source": [
    "cubic_features = cubic_data[features]\n",
    "cubic_target = cubic_data[target]\n",
    "plt.plot(cubic_features['x'], cubic_target)\n",
    "plt.title('Cubic function')\n",
    "plt.ylabel('y = x^3 + 2.7x^2 - 8.1x - b')\n",
    "plt.xlabel('x')\n",
    "plt.show()"
   ]
  },
  {
   "cell_type": "code",
   "execution_count": 4,
   "metadata": {
    "collapsed": true
   },
   "outputs": [],
   "source": [
    "X_train, X_test, y_train, y_test = train_test_split(cubic_features, cubic_target, test_size = 0.2)"
   ]
  },
  {
   "cell_type": "code",
   "execution_count": 5,
   "metadata": {
    "collapsed": true
   },
   "outputs": [],
   "source": [
    "X_train = X_train.as_matrix()\n",
    "X_test = X_test.as_matrix()\n",
    "y_train = y_train.as_matrix()\n",
    "y_test = y_test.as_matrix()"
   ]
  },
  {
   "cell_type": "code",
   "execution_count": 6,
   "metadata": {
    "collapsed": true
   },
   "outputs": [],
   "source": [
    "#The function takes the test data, dimensions of the test data and the number of neurons in the hidden layer as arguments.\n",
    "def neural_network(X_data, input_dim, hidden_neurons):\n",
    "    W_1 = tf.Variable(tf.random_uniform([input_dim,hidden_neurons]))\n",
    "    b_1 = tf.Variable(tf.zeros([hidden_neurons]))\n",
    "    layer_1 = tf.add(tf.matmul(X_data, W_1), b_1)\n",
    "    layer_1 = tf.nn.relu(layer_1)\n",
    "    \n",
    "    W_2 = tf.Variable(tf.random_uniform([hidden_neurons,hidden_neurons]))\n",
    "    b_2 = tf.Variable(tf.zeros([hidden_neurons]))\n",
    "    layer_2 = tf.add(tf.matmul(layer_1, W_2), b_2)\n",
    "    layer_2 = tf.nn.relu(layer_2)\n",
    "    \n",
    "    W_0 = tf.Variable(tf.random_uniform([hidden_neurons,1]))\n",
    "    b_0 = tf.Variable(tf.zeros([1]))\n",
    "    output = tf.add(tf.matmul(layer_2, W_0), b_0)\n",
    "    \n",
    "    return output"
   ]
  },
  {
   "cell_type": "code",
   "execution_count": 7,
   "metadata": {
    "collapsed": true
   },
   "outputs": [],
   "source": [
    "xs = tf.placeholder(\"float\")\n",
    "ys = tf.placeholder(\"float\")\n",
    "\n",
    "output = neural_network(xs, 2, 15)\n",
    "#Apart from the LSE cost function, Cross Entropy cost\n",
    "cost = tf.reduce_mean(tf.square(output-ys))\n",
    "train = tf.train.GradientDescentOptimizer(0.0001).minimize(cost)"
   ]
  },
  {
   "cell_type": "code",
   "execution_count": 8,
   "metadata": {},
   "outputs": [
    {
     "name": "stdout",
     "output_type": "stream",
     "text": [
      "Epoch:  0 Cost:  121.5344\n",
      "Epoch:  1 Cost:  45.71054\n",
      "Epoch:  2 Cost:  31.756033\n",
      "Epoch:  3 Cost:  24.346949\n",
      "Epoch:  4 Cost:  19.325125\n",
      "Epoch:  5 Cost:  17.674091\n",
      "Epoch:  6 Cost:  15.324351\n",
      "Epoch:  7 Cost:  13.486543\n",
      "Epoch:  8 Cost:  12.052739\n",
      "Epoch:  9 Cost:  10.638086\n",
      "Epoch:  10 Cost:  9.269256\n",
      "Epoch:  11 Cost:  7.736668\n",
      "Epoch:  12 Cost:  7.626524\n",
      "Epoch:  13 Cost:  6.5817356\n",
      "Epoch:  14 Cost:  6.534846\n",
      "Epoch:  15 Cost:  5.938571\n",
      "Epoch:  16 Cost:  5.9763165\n",
      "Epoch:  17 Cost:  5.4259458\n",
      "Epoch:  18 Cost:  4.4243155\n",
      "Epoch:  19 Cost:  3.3868752\n",
      "Epoch:  20 Cost:  3.379874\n",
      "Epoch:  21 Cost:  2.9490902\n",
      "Epoch:  22 Cost:  2.577624\n",
      "Epoch:  23 Cost:  2.272653\n",
      "Epoch:  24 Cost:  1.862084\n",
      "Epoch:  25 Cost:  1.8197109\n",
      "Epoch:  26 Cost:  1.5243918\n",
      "Epoch:  27 Cost:  1.5821539\n",
      "Epoch:  28 Cost:  1.6865939\n",
      "Epoch:  29 Cost:  1.5544415\n",
      "Epoch:  30 Cost:  1.4558991\n",
      "Epoch:  31 Cost:  1.1349916\n",
      "Epoch:  32 Cost:  1.1482956\n",
      "Epoch:  33 Cost:  1.9350815\n",
      "Epoch:  34 Cost:  1.6593341\n",
      "Epoch:  35 Cost:  1.3228376\n",
      "Epoch:  36 Cost:  1.4326891\n",
      "Epoch:  37 Cost:  5.3175836\n",
      "Epoch:  38 Cost:  4.692609\n",
      "Epoch:  39 Cost:  4.3789487\n",
      "Epoch:  40 Cost:  4.049713\n",
      "Epoch:  41 Cost:  3.8410218\n",
      "Epoch:  42 Cost:  3.1000621\n",
      "Epoch:  43 Cost:  2.6534839\n",
      "Epoch:  44 Cost:  2.6279328\n",
      "Epoch:  45 Cost:  2.4736035\n",
      "Epoch:  46 Cost:  2.0736732\n",
      "Epoch:  47 Cost:  1.9443722\n",
      "Epoch:  48 Cost:  1.8815552\n",
      "Epoch:  49 Cost:  1.4795386\n",
      "Epoch:  50 Cost:  1.5257798\n",
      "Epoch:  51 Cost:  1.1188163\n",
      "Epoch:  52 Cost:  0.8603414\n",
      "Epoch:  53 Cost:  1.7735437\n",
      "Epoch:  54 Cost:  1.6281888\n",
      "Epoch:  55 Cost:  1.4739193\n",
      "Epoch:  56 Cost:  1.2970357\n",
      "Epoch:  57 Cost:  1.1642746\n",
      "Epoch:  58 Cost:  1.0748895\n",
      "Epoch:  59 Cost:  0.9899839\n",
      "Epoch:  60 Cost:  0.89272386\n",
      "Epoch:  61 Cost:  0.8765932\n",
      "Epoch:  62 Cost:  0.8379066\n",
      "Epoch:  63 Cost:  0.8238465\n",
      "Epoch:  64 Cost:  0.79271024\n",
      "Epoch:  65 Cost:  0.75752366\n",
      "Epoch:  66 Cost:  0.56619\n",
      "Epoch:  67 Cost:  0.72879684\n",
      "Epoch:  68 Cost:  0.673528\n",
      "Epoch:  69 Cost:  0.6224306\n",
      "Epoch:  70 Cost:  0.73710644\n",
      "Epoch:  71 Cost:  0.55955327\n",
      "Epoch:  72 Cost:  0.5072356\n",
      "Epoch:  73 Cost:  0.56577235\n",
      "Epoch:  74 Cost:  0.45743647\n",
      "Epoch:  75 Cost:  0.6045529\n",
      "Epoch:  76 Cost:  0.5000777\n",
      "Epoch:  77 Cost:  0.487638\n",
      "Epoch:  78 Cost:  0.41081718\n",
      "Epoch:  79 Cost:  0.4498866\n",
      "Epoch:  80 Cost:  0.4056308\n",
      "Epoch:  81 Cost:  0.41161203\n",
      "Epoch:  82 Cost:  0.39326653\n",
      "Epoch:  83 Cost:  0.3874112\n",
      "Epoch:  84 Cost:  0.38296178\n",
      "Epoch:  85 Cost:  0.37602484\n",
      "Epoch:  86 Cost:  0.38068342\n",
      "Epoch:  87 Cost:  0.36598837\n",
      "Epoch:  88 Cost:  0.36683172\n",
      "Epoch:  89 Cost:  0.3464132\n",
      "Epoch:  90 Cost:  0.35324612\n",
      "Epoch:  91 Cost:  0.33940515\n",
      "Epoch:  92 Cost:  0.3309792\n",
      "Epoch:  93 Cost:  0.348843\n",
      "Epoch:  94 Cost:  0.34302706\n",
      "Epoch:  95 Cost:  0.34127727\n",
      "Epoch:  96 Cost:  0.33112732\n",
      "Epoch:  97 Cost:  0.5063142\n",
      "Epoch:  98 Cost:  0.38208914\n",
      "Epoch:  99 Cost:  0.30985108\n",
      "Cost:  0.26615363\n"
     ]
    }
   ],
   "source": [
    "c_t = []\n",
    "c_test = []\n",
    "with tf.Session() as sess:\n",
    "    sess.run(tf.global_variables_initializer())\n",
    "    saver = tf.train.Saver()\n",
    "    for i in range(100):\n",
    "        for j in range(X_train.shape[0]):\n",
    "            sess.run([cost,train], feed_dict = {xs:X_train[j,:].reshape(1,2), ys:y_train[j]})\n",
    "        c_t.append(sess.run(cost, feed_dict={xs:X_train, ys: y_train}))\n",
    "        c_test.append(sess.run(cost, feed_dict={xs: X_test, ys: y_test}))\n",
    "        print('Epoch: ', i, 'Cost: ', c_t[i])\n",
    "    \n",
    "    pred = sess.run(output, feed_dict = {xs:X_test})\n",
    "    print('Cost: ', sess.run(cost, feed_dict={xs: X_test, ys: y_test}))\n",
    "    "
   ]
  },
  {
   "cell_type": "code",
   "execution_count": 9,
   "metadata": {},
   "outputs": [
    {
     "data": {
      "image/png": "[encoded data removed]",
      "text/plain": [
       "<matplotlib.figure.Figure at 0x11f258ef0>"
      ]
     },
     "metadata": {},
     "output_type": "display_data"
    },
    {
     "data": {
      "image/png": "[encoded data removed]",
      "text/plain": [
       "<matplotlib.figure.Figure at 0x11ef2e208>"
      ]
     },
     "metadata": {},
     "output_type": "display_data"
    }
   ],
   "source": [
    "plt.scatter(X_test[:, 0], pred)\n",
    "plt.ylabel(\"Predicted value\")\n",
    "plt.xlabel(\"x\")\n",
    "plt.title(\"The Neural Network predictions\")\n",
    "plt.show()\n",
    "plt.scatter(X_test[:, 0], y_test)\n",
    "plt.ylabel(\"actual Values\")\n",
    "plt.xlabel(\"x\")\n",
    "plt.title(\"Actual Cubic equation: y = x^3 + 2.7x^2 - 8.1x - b\")\n",
    "plt.show()"
   ]
  }
 ],
 "metadata": {
  "kernelspec": {
   "display_name": "Python 3",
   "language": "python",
   "name": "python3"
  },
  "language_info": {
   "codemirror_mode": {
    "name": "ipython",
    "version": 3
   },
   "file_extension": ".py",
   "mimetype": "text/x-python",
   "name": "python",
   "nbconvert_exporter": "python",
   "pygments_lexer": "ipython3",
   "version": "3.6.1"
  }
 },
 "nbformat": 4,
 "nbformat_minor": 2
}
